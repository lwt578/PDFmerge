{
 "cells": [
  {
   "cell_type": "code",
   "execution_count": null,
   "metadata": {},
   "outputs": [],
   "source": [
    "# pdf转换word\n",
    "import os\n",
    "from pdf2docx import Converter\n",
    "\n",
    "folderpath=os.getcwd()\n",
    "pdffile='C:\\\\Users\\\\think book\\\\Desktop\\\\practice\\\\作业1.pdf'\n",
    "cv = Converter(pdffile)\n",
    "cv.convert(folderpath + '\\\\' + '作业1.docx')\n",
    "cv.close()\n",
    "print('Convert Completed')\n"
   ]
  },
  {
   "cell_type": "code",
   "execution_count": 6,
   "metadata": {},
   "outputs": [
    {
     "data": {
      "text/plain": [
       "<Sheet [工作簿1]Sheet1>"
      ]
     },
     "execution_count": 6,
     "metadata": {},
     "output_type": "execute_result"
    }
   ],
   "source": [
    "# pdf转换excel\n",
    "\n",
    "import pdfplumber\n",
    "from openpyxl import Workbook #保存表格，需要安装openpyxl\n",
    "workbook = Workbook()\n",
    "sheet = workbook.active\n",
    "with pdfplumber.open(\"胰岛素.pdf\") as pdf:\n",
    "    for page in pdf.pages:\n",
    "        table = page.extract_table()\n",
    "        for row in table:\n",
    "            sheet.append(row)\n",
    "    workbook.save(filename=\"胰岛素.xlsx\")\n",
    "\n",
    "\n"
   ]
  },
  {
   "cell_type": "code",
   "execution_count": null,
   "metadata": {},
   "outputs": [],
   "source": [
    "# pdf合并\n",
    "import os\n",
    "from PyPDF4 import PdfFileReader, PdfFileWriter\n",
    "\n",
    "folderpath = ''\n",
    "\n",
    "pdf_lst = [f for f in os.listdir(folderpath) if f.endswith('.pdf')]\n",
    "\n",
    "    file_writer = PdfFileWriter()\n",
    "    for i in pdf_lst:\n",
    "        pdf = PdfFileReader(folderpath + '/' + i)\n",
    "        for page in range(pdf.getNumPages()):\n",
    "            file_writer.addPage(pdf.getPage(page))  # 合并pdf文件\n",
    "\n",
    "    with open(folderpath + '/合并结果.pdf', 'wb') as f:\n",
    "        file_writer.write(f)\n",
    "\n",
    "        print('合并成功！文件保存在：' + folderpath + \"/合并结果.pdf\")\n",
    "        os.startfile(folderpath)"
   ]
  }
 ],
 "metadata": {
  "interpreter": {
   "hash": "49cb93f377a7abe7414b7b0f21fb3017538004a126cf690fb524202736b7fb92"
  },
  "kernelspec": {
   "display_name": "Python 3.9.7 ('base')",
   "language": "python",
   "name": "python3"
  },
  "language_info": {
   "codemirror_mode": {
    "name": "ipython",
    "version": 3
   },
   "file_extension": ".py",
   "mimetype": "text/x-python",
   "name": "python",
   "nbconvert_exporter": "python",
   "pygments_lexer": "ipython3",
   "version": "3.9.12"
  },
  "orig_nbformat": 4
 },
 "nbformat": 4,
 "nbformat_minor": 2
}
